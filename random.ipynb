{
 "cells": [
  {
   "cell_type": "code",
   "execution_count": 1,
   "metadata": {},
   "outputs": [],
   "source": [
    "import numpy as np\n",
    "import matplotlib.pyplot as plt"
   ]
  },
  {
   "cell_type": "code",
   "execution_count": 2,
   "metadata": {},
   "outputs": [],
   "source": [
    "from game import *\n",
    "from random_strat import *"
   ]
  },
  {
   "cell_type": "code",
   "execution_count": 3,
   "metadata": {},
   "outputs": [
    {
     "name": "stdout",
     "output_type": "stream",
     "text": [
      "|  |  |  |  |\n",
      "|  |  |  |  |\n",
      "|  |  |  |  |\n",
      "|  |  |  |  |\n",
      "\n"
     ]
    }
   ],
   "source": [
    "board = np.zeros( (4,4,5), dtype=np.uint8)\n",
    "plotBoard(board)"
   ]
  },
  {
   "cell_type": "code",
   "execution_count": 4,
   "metadata": {},
   "outputs": [
    {
     "name": "stdout",
     "output_type": "stream",
     "text": [
      " 0   1   2   3   4   5   6   7   8   9   10   11   12   13   14   15  \n"
     ]
    }
   ],
   "source": [
    "pieces = np.zeros((5,16), dtype=np.uint8)\n",
    "pieces[1,1::2] = 1\n",
    "pieces[2,2::4] = 1\n",
    "pieces[2,3::4] = 1\n",
    "pieces[3,4:8] = 1\n",
    "pieces[3,12:] = 1\n",
    "pieces[4,8:] = 1\n",
    "plotPieces(pieces)"
   ]
  },
  {
   "cell_type": "code",
   "execution_count": 5,
   "metadata": {},
   "outputs": [
    {
     "name": "stdout",
     "output_type": "stream",
     "text": [
      "*0*  1   2   3   4   5   6   7   8   9   10   11   12   13   14   15  \n",
      "|  |  |  |  |\n",
      "|  |  |  |  |\n",
      "|  |  |  |  |\n",
      "|  |  |00|  |\n",
      "\n",
      "*0* *1*  2   3   4   5   6   7   8   9   10   11   12   13   14   15  \n",
      "|  |  |  |  |\n",
      "|  |  |  |  |\n",
      "|01|  |  |  |\n",
      "|  |  |00|  |\n",
      "\n",
      "*0* *1*  2   3   4   5   6   7   8   9  *10*  11   12   13   14   15  \n",
      "|  |  |  |  |\n",
      "|  |  |  |  |\n",
      "|01|  |  |10|\n",
      "|  |  |00|  |\n",
      "\n",
      "*0* *1*  2   3   4   5   6   7   8   9  *10*  11   12   13   14  *15* \n",
      "|  |  |  |  |\n",
      "|  |  |15|  |\n",
      "|01|  |  |10|\n",
      "|  |  |00|  |\n",
      "\n",
      "*0* *1*  2   3   4   5   6  *7*  8   9  *10*  11   12   13   14  *15* \n",
      "|  |  |  |  |\n",
      "|  |  |15|  |\n",
      "|01|  |  |10|\n",
      "|  |07|00|  |\n",
      "\n",
      "*0* *1*  2   3   4   5   6  *7* *8*  9  *10*  11   12   13   14  *15* \n",
      "|  |  |  |  |\n",
      "|  |  |15|08|\n",
      "|01|  |  |10|\n",
      "|  |07|00|  |\n",
      "\n",
      "*0* *1* *2*  3   4   5   6  *7* *8*  9  *10*  11   12   13   14  *15* \n",
      "|  |02|  |  |\n",
      "|  |  |15|08|\n",
      "|01|  |  |10|\n",
      "|  |07|00|  |\n",
      "\n",
      "*0* *1* *2*  3   4   5  *6* *7* *8*  9  *10*  11   12   13   14  *15* \n",
      "|  |02|  |  |\n",
      "|  |  |15|08|\n",
      "|01|  |06|10|\n",
      "|  |07|00|  |\n",
      "\n",
      "*0* *1* *2*  3  *4*  5  *6* *7* *8*  9  *10*  11   12   13   14  *15* \n",
      "|04|02|  |  |\n",
      "|  |  |15|08|\n",
      "|01|  |06|10|\n",
      "|  |07|00|  |\n",
      "\n",
      "*0* *1* *2*  3  *4*  5  *6* *7* *8*  9  *10*  11   12  *13*  14  *15* \n",
      "|04|02|  |  |\n",
      "|13|  |15|08|\n",
      "|01|  |06|10|\n",
      "|  |07|00|  |\n",
      "\n",
      "*0* *1* *2* *3* *4*  5  *6* *7* *8*  9  *10*  11   12  *13*  14  *15* \n",
      "|04|02|  |  |\n",
      "|13|  |15|08|\n",
      "|01|03|06|10|\n",
      "|  |07|00|  |\n",
      "\n",
      "*0* *1* *2* *3* *4*  5  *6* *7* *8*  9  *10*  11  *12* *13*  14  *15* \n",
      "|04|02|  |  |\n",
      "|13|  |15|08|\n",
      "|01|03|06|10|\n",
      "|12|07|00|  |\n",
      "\n",
      "player B wins!\n"
     ]
    },
    {
     "data": {
      "text/plain": [
       "-1"
      ]
     },
     "execution_count": 5,
     "metadata": {},
     "output_type": "execute_result"
    }
   ],
   "source": [
    "plotGame(placeRandom, giveRandom, placeRandom, giveRandom)"
   ]
  },
  {
   "cell_type": "code",
   "execution_count": 6,
   "metadata": {},
   "outputs": [
    {
     "name": "stdout",
     "output_type": "stream",
     "text": [
      "5 ms ± 136 µs per loop (mean ± std. dev. of 7 runs, 100 loops each)\n"
     ]
    }
   ],
   "source": [
    "%%timeit\n",
    "game(placeRandom, giveRandom, placeRandom, giveRandom)"
   ]
  },
  {
   "cell_type": "code",
   "execution_count": 7,
   "metadata": {},
   "outputs": [],
   "source": [
    "N = 10**4\n",
    "res = np.zeros(N, dtype=np.int32)\n",
    "for i in range(N):\n",
    "    res[i] = game(placeRandom, giveRandom, placeRandom, giveRandom)"
   ]
  },
  {
   "cell_type": "code",
   "execution_count": 8,
   "metadata": {},
   "outputs": [
    {
     "name": "stdout",
     "output_type": "stream",
     "text": [
      "wins: 48.68±0.98%\n",
      "ties: 1.86±0.26%\n",
      "lost: 49.46±0.98%\n",
      "overall: -0.780%\n"
     ]
    }
   ],
   "source": [
    "f = np.sum(res==1)/N\n",
    "print(f'wins: {100*f:.2f}±{100*1.96*np.sqrt(f*(1-f))/np.sqrt(N):.2f}%')\n",
    "f = np.sum(res==0)/N\n",
    "print(f'ties: {100*f:.2f}±{100*1.96*np.sqrt(f*(1-f))/np.sqrt(N):.2f}%')\n",
    "f = np.sum(res==-1)/N\n",
    "print(f'lost: {100*f:.2f}±{100*1.96*np.sqrt(f*(1-f))/np.sqrt(N):.2f}%')\n",
    "\n",
    "s = np.sum(res)\n",
    "print(f'overall: {100*s/N:.3f}%')"
   ]
  },
  {
   "cell_type": "code",
   "execution_count": 9,
   "metadata": {},
   "outputs": [
    {
     "data": {
      "image/png": "[encoded data removed]",
      "text/plain": [
       "<Figure size 432x288 with 1 Axes>"
      ]
     },
     "metadata": {
      "needs_background": "light"
     },
     "output_type": "display_data"
    }
   ],
   "source": [
    "plt.plot(np.cumsum(res))\n",
    "plt.show()"
   ]
  }
 ],
 "metadata": {
  "kernelspec": {
   "display_name": "Python 3.9.5 64-bit",
   "language": "python",
   "name": "python3"
  },
  "language_info": {
   "codemirror_mode": {
    "name": "ipython",
    "version": 3
   },
   "file_extension": ".py",
   "mimetype": "text/x-python",
   "name": "python",
   "nbconvert_exporter": "python",
   "pygments_lexer": "ipython3",
   "version": "3.9.5"
  },
  "orig_nbformat": 4,
  "vscode": {
   "interpreter": {
    "hash": "81794d4967e6c3204c66dcd87b604927b115b27c00565d3d43f05ba2f3a2cb0d"
   }
  }
 },
 "nbformat": 4,
 "nbformat_minor": 2
}
