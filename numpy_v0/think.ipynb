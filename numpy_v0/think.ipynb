{
 "cells": [
  {
   "cell_type": "code",
   "execution_count": 1,
   "metadata": {},
   "outputs": [],
   "source": [
    "import numpy as np\n",
    "import pandas as pd\n",
    "import matplotlib.pyplot as plt"
   ]
  },
  {
   "cell_type": "code",
   "execution_count": 2,
   "metadata": {},
   "outputs": [],
   "source": [
    "from game import *\n",
    "from tournament import *\n",
    "from random_strat import *\n",
    "from give_strat import *\n",
    "from place_strat import *"
   ]
  },
  {
   "cell_type": "code",
   "execution_count": 30,
   "metadata": {},
   "outputs": [
    {
     "data": {
      "text/html": [
       "<div>\n",
       "<style scoped>\n",
       "    .dataframe tbody tr th:only-of-type {\n",
       "        vertical-align: middle;\n",
       "    }\n",
       "\n",
       "    .dataframe tbody tr th {\n",
       "        vertical-align: top;\n",
       "    }\n",
       "\n",
       "    .dataframe thead th {\n",
       "        text-align: right;\n",
       "    }\n",
       "</style>\n",
       "<table border=\"1\" class=\"dataframe\">\n",
       "  <thead>\n",
       "    <tr style=\"text-align: right;\">\n",
       "      <th></th>\n",
       "      <th>placeRandom giveRandom</th>\n",
       "      <th>placeRandom giveToNotLose</th>\n",
       "      <th>placeToWin giveRandom</th>\n",
       "      <th>placeToWin giveToNotLose</th>\n",
       "    </tr>\n",
       "  </thead>\n",
       "  <tbody>\n",
       "    <tr>\n",
       "      <th>placeRandom giveRandom</th>\n",
       "      <td>-0.0133</td>\n",
       "      <td>-0.2555</td>\n",
       "      <td>-0.7973</td>\n",
       "      <td>-0.9489</td>\n",
       "    </tr>\n",
       "    <tr>\n",
       "      <th>placeRandom giveToNotLose</th>\n",
       "      <td>0.2171</td>\n",
       "      <td>-0.0197</td>\n",
       "      <td>-0.3146</td>\n",
       "      <td>-0.7083</td>\n",
       "    </tr>\n",
       "    <tr>\n",
       "      <th>placeToWin giveRandom</th>\n",
       "      <td>0.8052</td>\n",
       "      <td>0.3017</td>\n",
       "      <td>-0.0152</td>\n",
       "      <td>-0.8089</td>\n",
       "    </tr>\n",
       "    <tr>\n",
       "      <th>placeToWin giveToNotLose</th>\n",
       "      <td>0.9533</td>\n",
       "      <td>0.7101</td>\n",
       "      <td>0.8106</td>\n",
       "      <td>-0.0115</td>\n",
       "    </tr>\n",
       "  </tbody>\n",
       "</table>\n",
       "</div>"
      ],
      "text/plain": [
       "                           placeRandom giveRandom  placeRandom giveToNotLose  \\\n",
       "placeRandom giveRandom                    -0.0133                    -0.2555   \n",
       "placeRandom giveToNotLose                  0.2171                    -0.0197   \n",
       "placeToWin giveRandom                      0.8052                     0.3017   \n",
       "placeToWin giveToNotLose                   0.9533                     0.7101   \n",
       "\n",
       "                           placeToWin giveRandom  placeToWin giveToNotLose  \n",
       "placeRandom giveRandom                   -0.7973                   -0.9489  \n",
       "placeRandom giveToNotLose                -0.3146                   -0.7083  \n",
       "placeToWin giveRandom                    -0.0152                   -0.8089  \n",
       "placeToWin giveToNotLose                  0.8106                   -0.0115  "
      ]
     },
     "execution_count": 30,
     "metadata": {},
     "output_type": "execute_result"
    }
   ],
   "source": [
    "for data in [\"wins\", \"ties\", \"lost\", \"scores\", \"N\"]:\n",
    "    locals()[data] = pd.read_csv(f'results/{data}-0.csv', index_col=0)\n",
    "scores"
   ]
  },
  {
   "cell_type": "code",
   "execution_count": 28,
   "metadata": {},
   "outputs": [
    {
     "data": {
      "text/html": [
       "<div>\n",
       "<style scoped>\n",
       "    .dataframe tbody tr th:only-of-type {\n",
       "        vertical-align: middle;\n",
       "    }\n",
       "\n",
       "    .dataframe tbody tr th {\n",
       "        vertical-align: top;\n",
       "    }\n",
       "\n",
       "    .dataframe thead th {\n",
       "        text-align: right;\n",
       "    }\n",
       "</style>\n",
       "<table border=\"1\" class=\"dataframe\">\n",
       "  <thead>\n",
       "    <tr style=\"text-align: right;\">\n",
       "      <th></th>\n",
       "      <th>placeRandom giveToNotLose</th>\n",
       "      <th>placeToWin giveToNotLose</th>\n",
       "      <th>placeToWin_minTension giveToNotLose</th>\n",
       "      <th>placeToWin_maxTension giveToNotLose</th>\n",
       "    </tr>\n",
       "  </thead>\n",
       "  <tbody>\n",
       "    <tr>\n",
       "      <th>placeRandom giveToNotLose</th>\n",
       "      <td>-0.0140</td>\n",
       "      <td>-0.7022</td>\n",
       "      <td>-0.6420</td>\n",
       "      <td>-0.6423</td>\n",
       "    </tr>\n",
       "    <tr>\n",
       "      <th>placeToWin giveToNotLose</th>\n",
       "      <td>0.6990</td>\n",
       "      <td>0.0036</td>\n",
       "      <td>-0.1203</td>\n",
       "      <td>0.4130</td>\n",
       "    </tr>\n",
       "    <tr>\n",
       "      <th>placeToWin_minTension giveToNotLose</th>\n",
       "      <td>0.6299</td>\n",
       "      <td>0.1380</td>\n",
       "      <td>-0.0036</td>\n",
       "      <td>0.5250</td>\n",
       "    </tr>\n",
       "    <tr>\n",
       "      <th>placeToWin_maxTension giveToNotLose</th>\n",
       "      <td>0.6246</td>\n",
       "      <td>-0.4157</td>\n",
       "      <td>0.2156</td>\n",
       "      <td>0.3986</td>\n",
       "    </tr>\n",
       "  </tbody>\n",
       "</table>\n",
       "</div>"
      ],
      "text/plain": [
       "                                     placeRandom giveToNotLose  \\\n",
       "placeRandom giveToNotLose                              -0.0140   \n",
       "placeToWin giveToNotLose                                0.6990   \n",
       "placeToWin_minTension giveToNotLose                     0.6299   \n",
       "placeToWin_maxTension giveToNotLose                     0.6246   \n",
       "\n",
       "                                     placeToWin giveToNotLose  \\\n",
       "placeRandom giveToNotLose                             -0.7022   \n",
       "placeToWin giveToNotLose                               0.0036   \n",
       "placeToWin_minTension giveToNotLose                    0.1380   \n",
       "placeToWin_maxTension giveToNotLose                   -0.4157   \n",
       "\n",
       "                                     placeToWin_minTension giveToNotLose  \\\n",
       "placeRandom giveToNotLose                                        -0.6420   \n",
       "placeToWin giveToNotLose                                         -0.1203   \n",
       "placeToWin_minTension giveToNotLose                              -0.0036   \n",
       "placeToWin_maxTension giveToNotLose                               0.2156   \n",
       "\n",
       "                                     placeToWin_maxTension giveToNotLose  \n",
       "placeRandom giveToNotLose                                        -0.6423  \n",
       "placeToWin giveToNotLose                                          0.4130  \n",
       "placeToWin_minTension giveToNotLose                               0.5250  \n",
       "placeToWin_maxTension giveToNotLose                               0.3986  "
      ]
     },
     "execution_count": 28,
     "metadata": {},
     "output_type": "execute_result"
    }
   ],
   "source": [
    "for data in [\"wins\", \"ties\", \"lost\", \"scores\", \"N\"]:\n",
    "    locals()[data] = pd.read_csv(f'results/{data}-1.csv', index_col=0)\n",
    "scores"
   ]
  },
  {
   "cell_type": "code",
   "execution_count": 17,
   "metadata": {},
   "outputs": [
    {
     "data": {
      "text/html": [
       "<div>\n",
       "<style scoped>\n",
       "    .dataframe tbody tr th:only-of-type {\n",
       "        vertical-align: middle;\n",
       "    }\n",
       "\n",
       "    .dataframe tbody tr th {\n",
       "        vertical-align: top;\n",
       "    }\n",
       "\n",
       "    .dataframe thead th {\n",
       "        text-align: right;\n",
       "    }\n",
       "</style>\n",
       "<table border=\"1\" class=\"dataframe\">\n",
       "  <thead>\n",
       "    <tr style=\"text-align: right;\">\n",
       "      <th></th>\n",
       "      <th>placeRandom giveRandom</th>\n",
       "      <th>minTension giveRandom</th>\n",
       "      <th>maxTension giveRandom</th>\n",
       "      <th>placeToWin giveRandom</th>\n",
       "    </tr>\n",
       "  </thead>\n",
       "  <tbody>\n",
       "    <tr>\n",
       "      <th>placeRandom giveRandom</th>\n",
       "      <td>0.0203</td>\n",
       "      <td>0.0463</td>\n",
       "      <td>0.0071</td>\n",
       "      <td>0.0018</td>\n",
       "    </tr>\n",
       "    <tr>\n",
       "      <th>minTension giveRandom</th>\n",
       "      <td>0.0545</td>\n",
       "      <td>0.2709</td>\n",
       "      <td>0.0048</td>\n",
       "      <td>0.0116</td>\n",
       "    </tr>\n",
       "    <tr>\n",
       "      <th>maxTension giveRandom</th>\n",
       "      <td>0.0064</td>\n",
       "      <td>0.0046</td>\n",
       "      <td>0.0043</td>\n",
       "      <td>0.0002</td>\n",
       "    </tr>\n",
       "    <tr>\n",
       "      <th>placeToWin giveRandom</th>\n",
       "      <td>0.0012</td>\n",
       "      <td>0.0089</td>\n",
       "      <td>0.0002</td>\n",
       "      <td>0.0006</td>\n",
       "    </tr>\n",
       "  </tbody>\n",
       "</table>\n",
       "</div>"
      ],
      "text/plain": [
       "                        placeRandom giveRandom  minTension giveRandom  \\\n",
       "placeRandom giveRandom                  0.0203                 0.0463   \n",
       "minTension giveRandom                   0.0545                 0.2709   \n",
       "maxTension giveRandom                   0.0064                 0.0046   \n",
       "placeToWin giveRandom                   0.0012                 0.0089   \n",
       "\n",
       "                        maxTension giveRandom  placeToWin giveRandom  \n",
       "placeRandom giveRandom                 0.0071                 0.0018  \n",
       "minTension giveRandom                  0.0048                 0.0116  \n",
       "maxTension giveRandom                  0.0043                 0.0002  \n",
       "placeToWin giveRandom                  0.0002                 0.0006  "
      ]
     },
     "execution_count": 17,
     "metadata": {},
     "output_type": "execute_result"
    }
   ],
   "source": [
    "for data in [\"wins\", \"ties\", \"lost\", \"scores\", \"N\"]:\n",
    "    locals()[data] = pd.read_csv(f'results/{data}-2.csv', index_col=0)\n",
    "ties/10000"
   ]
  },
  {
   "cell_type": "code",
   "execution_count": 3,
   "metadata": {},
   "outputs": [
    {
     "name": "stdout",
     "output_type": "stream",
     "text": [
      "2.46 ms ± 120 µs per loop (mean ± std. dev. of 7 runs, 100 loops each)\n"
     ]
    }
   ],
   "source": [
    "%%timeit\n",
    "game(placeRandom, giveRandom, placeRandom, giveRandom)"
   ]
  },
  {
   "cell_type": "code",
   "execution_count": 8,
   "metadata": {},
   "outputs": [
    {
     "name": "stdout",
     "output_type": "stream",
     "text": [
      "wins: 49.30±3.10%\n",
      "ties: 2.20±0.91%\n",
      "lost: 48.50±3.10%\n",
      "overall: +0.008\n"
     ]
    },
    {
     "data": {
      "image/png": "[encoded data removed]",
      "text/plain": [
       "<Figure size 432x288 with 1 Axes>"
      ]
     },
     "metadata": {
      "needs_background": "light"
     },
     "output_type": "display_data"
    },
    {
     "name": "stdout",
     "output_type": "stream",
     "text": [
      "wins: 61.30±3.02%\n",
      "ties: 2.30±0.93%\n",
      "lost: 36.40±2.98%\n",
      "overall: +0.249\n"
     ]
    },
    {
     "data": {
      "image/png": "[encoded data removed]",
      "text/plain": [
       "<Figure size 432x288 with 1 Axes>"
      ]
     },
     "metadata": {
      "needs_background": "light"
     },
     "output_type": "display_data"
    },
    {
     "name": "stdout",
     "output_type": "stream",
     "text": [
      "wins: 89.40±1.91%\n",
      "ties: 0.10±0.20%\n",
      "lost: 10.50±1.90%\n",
      "overall: +0.789\n"
     ]
    },
    {
     "data": {
      "image/png": "[encoded data removed]",
      "text/plain": [
       "<Figure size 432x288 with 1 Axes>"
      ]
     },
     "metadata": {
      "needs_background": "light"
     },
     "output_type": "display_data"
    }
   ],
   "source": [
    "full_test(placeRandom, giveRandom, placeRandom, giveRandom)\n",
    "full_test(placeRandom, giveToNotLose, placeRandom, giveRandom)\n",
    "full_test(placeToWin, giveRandom, placeRandom, giveRandom)"
   ]
  }
 ],
 "metadata": {
  "kernelspec": {
   "display_name": "Python 3.9.5 64-bit",
   "language": "python",
   "name": "python3"
  },
  "language_info": {
   "codemirror_mode": {
    "name": "ipython",
    "version": 3
   },
   "file_extension": ".py",
   "mimetype": "text/x-python",
   "name": "python",
   "nbconvert_exporter": "python",
   "pygments_lexer": "ipython3",
   "version": "3.9.5"
  },
  "orig_nbformat": 4,
  "vscode": {
   "interpreter": {
    "hash": "81794d4967e6c3204c66dcd87b604927b115b27c00565d3d43f05ba2f3a2cb0d"
   }
  }
 },
 "nbformat": 4,
 "nbformat_minor": 2
}
